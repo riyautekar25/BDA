{
  "nbformat": 4,
  "nbformat_minor": 0,
  "metadata": {
    "colab": {
      "provenance": [],
      "authorship_tag": "ABX9TyOnB07zAg+pEJ4YzJBVDFw5",
      "include_colab_link": true
    },
    "kernelspec": {
      "name": "python3",
      "display_name": "Python 3"
    },
    "language_info": {
      "name": "python"
    }
  },
  "cells": [
    {
      "cell_type": "markdown",
      "metadata": {
        "id": "view-in-github",
        "colab_type": "text"
      },
      "source": [
        "<a href=\"https://colab.research.google.com/github/riyautekar25/BDA/blob/main/Mapreduce_matrix.ipynb\" target=\"_parent\"><img src=\"https://colab.research.google.com/assets/colab-badge.svg\" alt=\"Open In Colab\"/></a>"
      ]
    },
    {
      "cell_type": "code",
      "execution_count": 1,
      "metadata": {
        "colab": {
          "base_uri": "https://localhost:8080/"
        },
        "id": "1bprWSTA14vY",
        "outputId": "aac95e3e-521e-40fc-f21c-d3e60d49b67c"
      },
      "outputs": [
        {
          "output_type": "stream",
          "name": "stdout",
          "text": [
            "Mapped Output (position, partial product):\n",
            "[((0, 0), 7), ((0, 0), 18), ((0, 0), 44), ((0, 1), 8), ((0, 1), 20), ((0, 1), 48), ((1, 0), 28), ((1, 0), 45), ((1, 0), 66), ((1, 1), 32), ((1, 1), 50), ((1, 1), 72)]\n"
          ]
        }
      ],
      "source": [
        "from collections import defaultdict\n",
        "\n",
        "A = [\n",
        "    [1,2,4],\n",
        "    [4,5,6]\n",
        "]\n",
        "\n",
        "B = [\n",
        "    [7,8],\n",
        "    [9,10],\n",
        "    [11,12]\n",
        "]\n",
        "\n",
        "m,n = len(A), len(A[0])\n",
        "n2, p = len(B), len(B[0])\n",
        "\n",
        "assert n==n2, \"Matrix dimensions do not allow multiplication\"\n",
        "\n",
        "mapped_output = []\n",
        "for i in range(m):\n",
        "  for j in range(p):\n",
        "    for k in range(n):\n",
        "      mapped_output.append(((i,j),A[i][k] * B[k][j]))\n",
        "\n",
        "print(\"Mapped Output (position, partial product):\")\n",
        "print(mapped_output)"
      ]
    },
    {
      "cell_type": "code",
      "source": [
        "# ---------- SHUFFLE & SORT ----------\n",
        "shuffle = defaultdict(list)\n",
        "for key, value in mapped_output:\n",
        "    shuffle[key].append(value)\n",
        "\n",
        "# ---------- REDUCER ----------\n",
        "C = defaultdict(int)\n",
        "\n",
        "for key, values in shuffle.items():\n",
        "    C[key] = sum(values)\n",
        "\n",
        "# Convert defaultdict to 2D list (matrix)\n",
        "result_matrix = []\n",
        "for i in range(m):\n",
        "    row = []\n",
        "    for j in range(p):\n",
        "        row.append(C[(i, j)])\n",
        "    result_matrix.append(row)\n",
        "\n",
        "print(\"\\nResultant Matrix C:\")\n",
        "for row in result_matrix:\n",
        "    print(row)"
      ],
      "metadata": {
        "colab": {
          "base_uri": "https://localhost:8080/"
        },
        "id": "clevAz9T4Lb2",
        "outputId": "5077e048-e474-4318-b3c4-0b9a46ee6716"
      },
      "execution_count": 2,
      "outputs": [
        {
          "output_type": "stream",
          "name": "stdout",
          "text": [
            "\n",
            "Resultant Matrix C:\n",
            "[69, 76]\n",
            "[139, 154]\n"
          ]
        }
      ]
    },
    {
      "cell_type": "code",
      "source": [],
      "metadata": {
        "id": "ZlHiYWI24Vvh"
      },
      "execution_count": null,
      "outputs": []
    }
  ]
}
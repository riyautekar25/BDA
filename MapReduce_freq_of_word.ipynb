{
  "nbformat": 4,
  "nbformat_minor": 0,
  "metadata": {
    "colab": {
      "provenance": [],
      "authorship_tag": "ABX9TyOkWsWy8tavn3APSTyeShb8",
      "include_colab_link": true
    },
    "kernelspec": {
      "name": "python3",
      "display_name": "Python 3"
    },
    "language_info": {
      "name": "python"
    }
  },
  "cells": [
    {
      "cell_type": "markdown",
      "metadata": {
        "id": "view-in-github",
        "colab_type": "text"
      },
      "source": [
        "<a href=\"https://colab.research.google.com/github/riyautekar25/BDA/blob/main/MapReduce_freq_of_word.ipynb\" target=\"_parent\"><img src=\"https://colab.research.google.com/assets/colab-badge.svg\" alt=\"Open In Colab\"/></a>"
      ]
    },
    {
      "cell_type": "code",
      "execution_count": 1,
      "metadata": {
        "id": "gk7BW4aLOyiK"
      },
      "outputs": [],
      "source": [
        "#Read file\n",
        "with open(\"input.txt\",\"r\") as file:\n",
        "  input_text = file.readlines()\n",
        "# word to search for\n",
        "search_word = \"data\""
      ]
    },
    {
      "cell_type": "code",
      "source": [
        "# mapper function\n",
        "mapped_output = []\n",
        "for line in input_text:\n",
        "  line = line.strip().lower()\n",
        "  words = line.split()\n",
        "  for word in words:\n",
        "    word = word.strip('.;,!?\"\\'')\n",
        "    if word == search_word:\n",
        "      mapped_output.append((word,1))\n",
        "print(\"Mapper output (word,1)\")\n",
        "print(mapped_output)"
      ],
      "metadata": {
        "colab": {
          "base_uri": "https://localhost:8080/"
        },
        "id": "gyJH83LfP4pV",
        "outputId": "b629f2b6-c960-4040-8b95-597a70131fb2"
      },
      "execution_count": 2,
      "outputs": [
        {
          "output_type": "stream",
          "name": "stdout",
          "text": [
            "Mapper output (word,1)\n",
            "[('data', 1), ('data', 1), ('data', 1)]\n"
          ]
        }
      ]
    },
    {
      "cell_type": "code",
      "source": [
        "from collections import defaultdict\n",
        "shuffle_sort = defaultdict(list)\n",
        "for word, count in mapped_output:\n",
        "  shuffle_sort[word].append(count)\n",
        "print(\"After shuffle sort\")\n",
        "print(dict(shuffle_sort))"
      ],
      "metadata": {
        "colab": {
          "base_uri": "https://localhost:8080/"
        },
        "id": "0_lsWg1wRDms",
        "outputId": "ec086d2a-4f41-430e-8b80-18587fac8796"
      },
      "execution_count": 8,
      "outputs": [
        {
          "output_type": "stream",
          "name": "stdout",
          "text": [
            "After shuffle sort\n",
            "{'data': [1, 1, 1]}\n"
          ]
        }
      ]
    },
    {
      "cell_type": "code",
      "source": [
        "reduced_output = {}\n",
        "for word, count in shuffle_sort.items():\n",
        "  reduced_output[word] = sum(count)\n",
        "print(\"Reduced output\")\n",
        "print(reduced_output)"
      ],
      "metadata": {
        "colab": {
          "base_uri": "https://localhost:8080/"
        },
        "id": "fn9wYILaRqzm",
        "outputId": "580a0395-2095-4082-a616-f48adf78ec4b"
      },
      "execution_count": 9,
      "outputs": [
        {
          "output_type": "stream",
          "name": "stdout",
          "text": [
            "Reduced output\n",
            "{'data': 3}\n"
          ]
        }
      ]
    },
    {
      "cell_type": "code",
      "source": [],
      "metadata": {
        "id": "BKq5-WmFSaPG"
      },
      "execution_count": null,
      "outputs": []
    }
  ]
}
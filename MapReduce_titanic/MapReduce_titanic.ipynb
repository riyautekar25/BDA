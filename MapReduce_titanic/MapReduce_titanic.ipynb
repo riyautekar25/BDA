{
  "nbformat": 4,
  "nbformat_minor": 0,
  "metadata": {
    "colab": {
      "provenance": [],
      "authorship_tag": "ABX9TyMqFv0jYL5aGLTrtTJ6Lc2G",
      "include_colab_link": true
    },
    "kernelspec": {
      "name": "python3",
      "display_name": "Python 3"
    },
    "language_info": {
      "name": "python"
    }
  },
  "cells": [
    {
      "cell_type": "markdown",
      "metadata": {
        "id": "view-in-github",
        "colab_type": "text"
      },
      "source": [
        "<a href=\"https://colab.research.google.com/github/riyautekar25/BDA/blob/main/MapReduce_titanic.ipynb\" target=\"_parent\"><img src=\"https://colab.research.google.com/assets/colab-badge.svg\" alt=\"Open In Colab\"/></a>"
      ]
    },
    {
      "cell_type": "code",
      "execution_count": 1,
      "metadata": {
        "colab": {
          "base_uri": "https://localhost:8080/"
        },
        "id": "P_6gWk99Eus1",
        "outputId": "6850138b-5220-46ea-c31a-d89b4ef2fc4e"
      },
      "outputs": [
        {
          "output_type": "stream",
          "name": "stdout",
          "text": [
            "Average age of males who died: 31.62\n",
            "\n",
            "Number of females who died per class:\n",
            "Class 1: 3\n",
            "Class 2: 6\n",
            "Class 3: 72\n"
          ]
        }
      ],
      "source": [
        "import csv\n",
        "from collections import defaultdict\n",
        "\n",
        "# ---------- READ CSV ----------\n",
        "with open(\"titanic.csv\", \"r\") as file:\n",
        "    reader = csv.DictReader(file)\n",
        "    data = list(reader)\n",
        "\n",
        "# ---------- MAPPER ----------\n",
        "male_age_data = []           # for average age of dead males\n",
        "female_class_data = []       # for count of dead females by class\n",
        "\n",
        "for row in data:\n",
        "    try:\n",
        "        sex = row['Sex'].strip().lower()\n",
        "        survived = int(row['Survived'])\n",
        "        age = float(row['Age']) if row['Age'] else None\n",
        "        pclass = int(row['Pclass'])\n",
        "\n",
        "        # 1. Male who died (Survived == 0)\n",
        "        if sex == 'male' and survived == 0 and age is not None:\n",
        "            male_age_data.append(age)\n",
        "\n",
        "        # 2. Female who died (Survived == 0)\n",
        "        if sex == 'female' and survived == 0:\n",
        "            female_class_data.append((pclass, 1))\n",
        "\n",
        "    except:\n",
        "        continue  # skip rows with missing or malformed data\n",
        "\n",
        "# ---------- REDUCER ----------\n",
        "\n",
        "# 1. Average age of dead males\n",
        "if male_age_data:\n",
        "    average_age = sum(male_age_data) / len(male_age_data)\n",
        "    print(f\"Average age of males who died: {average_age:.2f}\")\n",
        "else:\n",
        "    print(\"No male death data available.\")\n",
        "\n",
        "# 2. Count of female deaths per class\n",
        "class_counts = defaultdict(int)\n",
        "\n",
        "for pclass, count in female_class_data:\n",
        "    class_counts[pclass] += count\n",
        "\n",
        "print(\"\\nNumber of females who died per class:\")\n",
        "for cls in sorted(class_counts.keys()):\n",
        "    print(f\"Class {cls}: {class_counts[cls]}\")\n"
      ]
    },
    {
      "cell_type": "code",
      "source": [],
      "metadata": {
        "id": "zE07yQpcE7yI"
      },
      "execution_count": null,
      "outputs": []
    }
  ]
}
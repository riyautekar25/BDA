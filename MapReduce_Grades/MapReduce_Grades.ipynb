{
  "nbformat": 4,
  "nbformat_minor": 0,
  "metadata": {
    "colab": {
      "provenance": [],
      "authorship_tag": "ABX9TyNlfUDk6DJlvnykTzBUDML3",
      "include_colab_link": true
    },
    "kernelspec": {
      "name": "python3",
      "display_name": "Python 3"
    },
    "language_info": {
      "name": "python"
    }
  },
  "cells": [
    {
      "cell_type": "markdown",
      "metadata": {
        "id": "view-in-github",
        "colab_type": "text"
      },
      "source": [
        "<a href=\"https://colab.research.google.com/github/riyautekar25/BDA/blob/main/MapReduce_Grades.ipynb\" target=\"_parent\"><img src=\"https://colab.research.google.com/assets/colab-badge.svg\" alt=\"Open In Colab\"/></a>"
      ]
    },
    {
      "cell_type": "code",
      "execution_count": 1,
      "metadata": {
        "colab": {
          "base_uri": "https://localhost:8080/"
        },
        "id": "TauG1Ue6TMD4",
        "outputId": "d6594073-d61e-4dfb-9b46-bfe55544c89e"
      },
      "outputs": [
        {
          "output_type": "stream",
          "name": "stdout",
          "text": [
            "[('Alice', 85), ('Bob', 72), ('Charlie', 60), ('David', 45), ('Eva', 30)]\n"
          ]
        }
      ],
      "source": [
        "with open(\"marks.txt\",\"r\") as file:\n",
        "  lines = file.readlines()\n",
        "\n",
        "mapped_output = []\n",
        "for line in lines:\n",
        "  name, marks = line.strip().split()\n",
        "  mapped_output.append((name, int(marks)))\n",
        "\n",
        "print(mapped_output)"
      ]
    },
    {
      "cell_type": "code",
      "source": [
        "def assign_grade(marks):\n",
        "    if marks >= 90:\n",
        "        return 'A'\n",
        "    elif marks >= 80:\n",
        "        return 'B'\n",
        "    elif marks >= 70:\n",
        "        return 'C'\n",
        "    elif marks >= 60:\n",
        "        return 'D'\n",
        "    elif marks >= 50:\n",
        "        return 'E'\n",
        "    else:\n",
        "        return 'F'"
      ],
      "metadata": {
        "id": "iD3e29jMy871"
      },
      "execution_count": 2,
      "outputs": []
    },
    {
      "cell_type": "code",
      "source": [
        "reduced_output = {}\n",
        "\n",
        "for name,marks in mapped_output:\n",
        "  grade = assign_grade(marks)\n",
        "  reduced_output[name] = grade\n",
        "\n",
        "print(reduced_output)"
      ],
      "metadata": {
        "colab": {
          "base_uri": "https://localhost:8080/"
        },
        "id": "2eepiuaxzDci",
        "outputId": "183949da-4e9b-47f1-b1e5-47211b72d0be"
      },
      "execution_count": 3,
      "outputs": [
        {
          "output_type": "stream",
          "name": "stdout",
          "text": [
            "{'Alice': 'B', 'Bob': 'C', 'Charlie': 'D', 'David': 'F', 'Eva': 'F'}\n"
          ]
        }
      ]
    },
    {
      "cell_type": "code",
      "source": [],
      "metadata": {
        "id": "9jOXgHIazcpL"
      },
      "execution_count": null,
      "outputs": []
    }
  ]
}